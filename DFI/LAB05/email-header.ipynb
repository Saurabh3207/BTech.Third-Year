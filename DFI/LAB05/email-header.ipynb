{
 "cells": [
  {
   "cell_type": "code",
   "execution_count": null,
   "metadata": {},
   "outputs": [],
   "source": []
  },
  {
   "cell_type": "code",
   "execution_count": 6,
   "metadata": {},
   "outputs": [
    {
     "name": "stdout",
     "output_type": "stream",
     "text": [
      "Subject: Security alert\n",
      "From: Google <no-reply@accounts.google.com>\n",
      "To: saurabhjadhav1210@gmail.com\n"
     ]
    },
    {
     "data": {
      "text/plain": [
       "('BYE', [b'LOGOUT Requested'])"
      ]
     },
     "execution_count": 6,
     "metadata": {},
     "output_type": "execute_result"
    }
   ],
   "source": [
    "import imaplib \n",
    "import email\n",
    "from email.header import decode_header\n",
    "\n",
    "# IMAP server configuration\n",
    "imap_host = 'imap.gmail.com'\n",
    "imap_user = 'saurabhjadhav1210@gmail.com'\n",
    "imap_pass = 'prjzsowspccwrofv' \n",
    "\n",
    "# Connect to the Gmail IMAP server\n",
    "imap = imaplib.IMAP4_SSL(imap_host)\n",
    "\n",
    "# Login to your Gmail account\n",
    "imap.login(imap_user, imap_pass)\n",
    "\n",
    "# Select the \"Inbox\" mailbox\n",
    "mailbox = \"INBOX\"\n",
    "imap.select(mailbox)\n",
    "\n",
    "# Search for the first email in the Inbox\n",
    "status, email_ids = imap.search(None, 'ALL')\n",
    "latest_email_id = email_ids[0].split()[-1]  # Get the ID of the last (latest) email\n",
    "\n",
    "# Fetch the email header\n",
    "status, header_data = imap.fetch(latest_email_id, '(RFC822.HEADER)')\n",
    "\n",
    "# Parse the email header\n",
    "raw_header = header_data[0][1]\n",
    "email_message = email.message_from_bytes(raw_header)\n",
    "\n",
    "# Extract header fields\n",
    "subject = email_message['Subject']\n",
    "from_address = email_message['From']\n",
    "to_address = email_message['To']\n",
    "\n",
    "# Print the header fields\n",
    "print(f\"Subject: {subject}\")\n",
    "print(f\"From: {from_address}\")\n",
    "print(f\"To: {to_address}\")\n",
    "\n",
    "# Close the mailbox\n",
    "imap.close()\n",
    "\n",
    "# Logout from the server\n",
    "imap.logout()\n"
   ]
  },
  {
   "cell_type": "code",
   "execution_count": 2,
   "metadata": {},
   "outputs": [
    {
     "name": "stdout",
     "output_type": "stream",
     "text": [
      "Requirement already satisfied: pyyaml in /Users/saurabhbalasahebjadhav/.pyenv/versions/3.12.0/lib/python3.12/site-packages (6.0.1)\n",
      "Note: you may need to restart the kernel to use updated packages.\n"
     ]
    },
    {
     "data": {
      "text/plain": [
       "('BYE', [b'LOGOUT Requested'])"
      ]
     },
     "execution_count": 2,
     "metadata": {},
     "output_type": "execute_result"
    }
   ],
   "source": [
    "import imaplib\n",
    "%pip install pyyaml\n",
    "import yaml\n",
    "\n",
    "\n",
    "# Load the configuration from the YAML file\n",
    "with open('config.yml', 'r') as config_file:\n",
    "    config = yaml.safe_load(config_file)\n",
    "\n",
    "# Get the email and password from the configuration\n",
    "imap_user = config.get('email')\n",
    "imap_pass = config.get('password')\n",
    "\n",
    "# IMAP server configuration\n",
    "imap_host = 'imap.gmail.com'\n",
    "\n",
    "# Connect to the Gmail IMAP server using SSL\n",
    "imap = imaplib.IMAP4_SSL(imap_host)\n",
    "\n",
    "# Login to your Gmail account\n",
    "imap.login(imap_user, imap_pass)\n",
    "\n",
    "# Select the mailbox (e.g., \"Inbox\")\n",
    "mailbox = \"INBOX\"\n",
    "imap.select(mailbox)\n",
    "\n",
    "# Now you have successfully connected, logged in, and selected the \"Inbox\" mailbox.\n",
    "\n",
    "# Perform your desired actions with the mailbox here...\n",
    "\n",
    "# Close the mailbox\n",
    "imap.close()\n",
    "\n",
    "# Logout from the server\n",
    "imap.logout()\n"
   ]
  }
 ],
 "metadata": {
  "kernelspec": {
   "display_name": ".venv",
   "language": "python",
   "name": "python3"
  },
  "language_info": {
   "codemirror_mode": {
    "name": "ipython",
    "version": 3
   },
   "file_extension": ".py",
   "mimetype": "text/x-python",
   "name": "python",
   "nbconvert_exporter": "python",
   "pygments_lexer": "ipython3",
   "version": "3.12.0"
  },
  "orig_nbformat": 4
 },
 "nbformat": 4,
 "nbformat_minor": 2
}
